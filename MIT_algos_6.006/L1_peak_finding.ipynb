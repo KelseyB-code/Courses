{
 "cells": [
  {
   "cell_type": "code",
   "execution_count": 20,
   "metadata": {},
   "outputs": [
    {
     "data": {
      "text/plain": [
       "[1, 3, 5]"
      ]
     },
     "execution_count": 20,
     "metadata": {},
     "output_type": "execute_result"
    }
   ],
   "source": [
    "\"\"\"\n",
    "Lecture 1:\n",
    "Peak finding (1D and 2D)\n",
    "------------------------\n",
    "This program contains an O(log(N)) algorithm for finding a peak,\n",
    "i.e. an element that is greater than or equal to its neighbors,\n",
    "in an array of comparable types.\n",
    "\n",
    "Source: https://github.com/DCtheTall/mit6.006\n",
    "\"\"\"\n",
    "\n",
    "\n",
    "def find1Dpeak(arr):\n",
    "  \"\"\"\n",
    "  Finds a 1D peak in a list of comparable types\n",
    "\n",
    "  A 1D peak is an x in L such that it is greater\n",
    "  than or equal to all its neighbors.\n",
    "\n",
    "  ex. [1, 1, 2, 1] in this list, the elements at\n",
    "  index 0 and index 2 are peaks.\n",
    "\n",
    "  Complexity: O(log(n))\n",
    "  where n = len(list)\n",
    "\n",
    "  \"\"\"\n",
    "  n = len(arr)\n",
    "  if n == 1:\n",
    "    return arr[0]\n",
    "  if n == 2:\n",
    "    return max(arr)\n",
    "  if arr[n // 2] < arr[(n // 2) - 1]:\n",
    "    return find1Dpeak(arr[:n // 2])\n",
    "  if arr[n // 2] < arr[(n // 2) + 1]:\n",
    "    return find1Dpeak(arr[n // 2:])\n",
    "  return arr[n // 2]\n",
    "\n",
    "\n",
    "arr = [1,3,5,2,1]\n",
    "find1Dpeak(arr)"
   ]
  },
  {
   "cell_type": "code",
   "execution_count": 23,
   "metadata": {},
   "outputs": [],
   "source": [
    "def find2Dpeak(plane):\n",
    "  \"\"\"\n",
    "  Finds a 2D peak in a 2D list of comparable types\n",
    "\n",
    "  A 2D peak is an x in P such that it is greater than\n",
    "  or equal to both its horizontal and both its\n",
    "  vertical neighbors\n",
    "\n",
    "  ex.\n",
    "\n",
    "  [1, 0, 0]\n",
    "  [2, 2, 0]\n",
    "  [0, 0, 0]\n",
    "\n",
    "  the top right corner is a peak\n",
    "  the middle left and middle right elements are peaks\n",
    "  the bottom right corner is a peak\n",
    "\n",
    "  Complexity: T(n, m) = T(n, m/2) + O(n) = O(n * log(m))\n",
    "  where n = len(child_list) and m = len(parent_list)\n",
    "\n",
    "  \"\"\"\n",
    "  n = len(plane)\n",
    "  middle_row = plane[n // 2]\n",
    "  middle_max = max(middle_row)\n",
    "  i = middle_row.index(middle_max)\n",
    "  if n == 1:\n",
    "    return middle_max\n",
    "  if n == 2:\n",
    "    return max(plane[0][i], middle_max)\n",
    "  if middle_max < plane[(n // 2) - 1][i]:\n",
    "    return find2Dpeak(plane[n / 2:])\n",
    "  if middle_max < plane[(n // 2) + 1][i]:\n",
    "    return find2Dpeak(plane[:n // 2])\n",
    "  return middle_max"
   ]
  },
  {
   "cell_type": "code",
   "execution_count": 33,
   "metadata": {},
   "outputs": [
    {
     "data": {
      "text/plain": [
       "9"
      ]
     },
     "execution_count": 33,
     "metadata": {},
     "output_type": "execute_result"
    }
   ],
   "source": [
    "# define plane as a list of lists\n",
    "plane = [[1,1,1], [5,7,9], [2,2,2]]\n",
    "find2Dpeak(plane)"
   ]
  },
  {
   "cell_type": "markdown",
   "metadata": {},
   "source": []
  }
 ],
 "metadata": {
  "kernelspec": {
   "display_name": "Python 3.9.6 64-bit",
   "language": "python",
   "name": "python3"
  },
  "language_info": {
   "codemirror_mode": {
    "name": "ipython",
    "version": 3
   },
   "file_extension": ".py",
   "mimetype": "text/x-python",
   "name": "python",
   "nbconvert_exporter": "python",
   "pygments_lexer": "ipython3",
   "version": "3.9.6"
  },
  "orig_nbformat": 4,
  "vscode": {
   "interpreter": {
    "hash": "b0fa6594d8f4cbf19f97940f81e996739fb7646882a419484c72d19e05852a7e"
   }
  }
 },
 "nbformat": 4,
 "nbformat_minor": 2
}
