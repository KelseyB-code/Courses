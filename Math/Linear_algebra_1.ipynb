{
 "cells": [
  {
   "cell_type": "code",
   "execution_count": 25,
   "metadata": {},
   "outputs": [
    {
     "name": "stdout",
     "output_type": "stream",
     "text": [
      "[[1]\n",
      " [2]\n",
      " [3]]\n"
     ]
    },
    {
     "ename": "ModuleNotFoundError",
     "evalue": "No module named 'sympy'",
     "output_type": "error",
     "traceback": [
      "\u001b[0;31m---------------------------------------------------------------------------\u001b[0m",
      "\u001b[0;31mModuleNotFoundError\u001b[0m                       Traceback (most recent call last)",
      "\u001b[1;32m/Users/kelsey/Documents/Work/Courses/Linear_algebra.ipynb Cell 1\u001b[0m in \u001b[0;36m<cell line: 23>\u001b[0;34m()\u001b[0m\n\u001b[1;32m     <a href='vscode-notebook-cell:/Users/kelsey/Documents/Work/Courses/Linear_algebra.ipynb#W0sZmlsZQ%3D%3D?line=19'>20</a>\u001b[0m mat \u001b[39m=\u001b[39m np\u001b[39m.\u001b[39marray([[\u001b[39m-\u001b[39m\u001b[39m1\u001b[39m,\u001b[39m2\u001b[39m,\u001b[39m1\u001b[39m], [\u001b[39m1\u001b[39m,\u001b[39m1\u001b[39m,\u001b[39m2\u001b[39m], [\u001b[39m2\u001b[39m,\u001b[39m0\u001b[39m,\u001b[39m2\u001b[39m]])\n\u001b[1;32m     <a href='vscode-notebook-cell:/Users/kelsey/Documents/Work/Courses/Linear_algebra.ipynb#W0sZmlsZQ%3D%3D?line=20'>21</a>\u001b[0m \u001b[39mprint\u001b[39m(b)\n\u001b[0;32m---> <a href='vscode-notebook-cell:/Users/kelsey/Documents/Work/Courses/Linear_algebra.ipynb#W0sZmlsZQ%3D%3D?line=22'>23</a>\u001b[0m \u001b[39mimport\u001b[39;00m \u001b[39msympy\u001b[39;00m\n",
      "\u001b[0;31mModuleNotFoundError\u001b[0m: No module named 'sympy'"
     ]
    }
   ],
   "source": [
    "import numpy as np\n",
    "v1 = np.array([\n",
    "    [-1],\n",
    "    [1], \n",
    "    [2]])\n",
    "v2 = np.array([\n",
    "    [2],\n",
    "    [1], \n",
    "    [0]])\n",
    "v3 = np.array([\n",
    "    [1],\n",
    "    [2], \n",
    "    [2]])\n",
    "\n",
    "b = np.array([\n",
    "    [1],\n",
    "    [2], \n",
    "    [3]])\n",
    "\n",
    "mat = np.array([[-1,2,1], [1,1,2], [2,0,2]])\n",
    "print(b)\n",
    "\n",
    "import sympy"
   ]
  }
 ],
 "metadata": {
  "kernelspec": {
   "display_name": "Python 3.9.6 64-bit",
   "language": "python",
   "name": "python3"
  },
  "language_info": {
   "codemirror_mode": {
    "name": "ipython",
    "version": 3
   },
   "file_extension": ".py",
   "mimetype": "text/x-python",
   "name": "python",
   "nbconvert_exporter": "python",
   "pygments_lexer": "ipython3",
   "version": "3.9.6"
  },
  "orig_nbformat": 4,
  "vscode": {
   "interpreter": {
    "hash": "b0fa6594d8f4cbf19f97940f81e996739fb7646882a419484c72d19e05852a7e"
   }
  }
 },
 "nbformat": 4,
 "nbformat_minor": 2
}
